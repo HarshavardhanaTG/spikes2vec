{
 "cells": [
  {
   "cell_type": "code",
   "execution_count": 1,
   "metadata": {},
   "outputs": [],
   "source": [
    "import os\n",
    "import torch\n",
    "import torch.nn as nn\n",
    "from torch.utils.data import DataLoader\n",
    "import torch.optim as optim\n",
    "\n",
    "from spikes.dataMaker import makeData, DataCollator\n",
    "from omegaconf import DictConfig\n",
    "from tqdm import tqdm"
   ]
  },
  {
   "cell_type": "code",
   "execution_count": 2,
   "metadata": {},
   "outputs": [],
   "source": [
    "trainDataset = torch.tensor(makeData('trainDataNorm.pkl'), dtype = torch.float32)\n",
    "valDataset = torch.tensor(makeData('valDataNorm.pkl'), dtype = torch.float32)"
   ]
  },
  {
   "cell_type": "code",
   "execution_count": 3,
   "metadata": {},
   "outputs": [
    {
     "name": "stdout",
     "output_type": "stream",
     "text": [
      "torch.Size([15235, 128, 150])\n",
      "torch.Size([3222, 128, 150])\n"
     ]
    }
   ],
   "source": [
    "print(trainDataset.shape)\n",
    "print(valDataset.shape)"
   ]
  },
  {
   "cell_type": "code",
   "execution_count": 4,
   "metadata": {},
   "outputs": [],
   "source": [
    "dataCollator = DataCollator()"
   ]
  },
  {
   "cell_type": "code",
   "execution_count": 5,
   "metadata": {},
   "outputs": [],
   "source": [
    "trainLoader = DataLoader(trainDataset, batch_size = 64, collate_fn = dataCollator)"
   ]
  },
  {
   "cell_type": "code",
   "execution_count": null,
   "metadata": {},
   "outputs": [],
   "source": [
    "\"\"\"for i, (features, masks) in enumerate(trainLoader):\n",
    "    print(\"F: \", features.shape)\n",
    "    print(\"M: \", masks.shape)\"\"\""
   ]
  },
  {
   "cell_type": "code",
   "execution_count": 6,
   "metadata": {},
   "outputs": [],
   "source": [
    "valLoader = DataLoader(valDataset, batch_size = 64, collate_fn = dataCollator)"
   ]
  },
  {
   "cell_type": "code",
   "execution_count": null,
   "metadata": {},
   "outputs": [],
   "source": [
    "\"\"\"for i, (features, masks) in enumerate(valLoader):\n",
    "    print(\"F: \", features.shape)\n",
    "    print(\"M: \", masks.shape)\"\"\""
   ]
  },
  {
   "cell_type": "code",
   "execution_count": 7,
   "metadata": {},
   "outputs": [],
   "source": [
    "from spikes.encoder import neuralModel"
   ]
  },
  {
   "cell_type": "code",
   "execution_count": 8,
   "metadata": {},
   "outputs": [],
   "source": [
    "NM = neuralModel()"
   ]
  },
  {
   "cell_type": "code",
   "execution_count": 16,
   "metadata": {},
   "outputs": [],
   "source": [
    "for i, batch in enumerate(trainLoader):\n",
    "    if i == 0:\n",
    "        a, b = batch\n",
    "        A = NM(inputValues = a, maskTimeIndices = b)"
   ]
  },
  {
   "cell_type": "code",
   "execution_count": 17,
   "metadata": {},
   "outputs": [
    {
     "name": "stdout",
     "output_type": "stream",
     "text": [
      "2\n"
     ]
    }
   ],
   "source": [
    "print(len(A))\n",
    "B = A[0]\n",
    "C = A[1]"
   ]
  },
  {
   "cell_type": "code",
   "execution_count": 18,
   "metadata": {},
   "outputs": [
    {
     "name": "stdout",
     "output_type": "stream",
     "text": [
      "torch.Size([64, 150, 768])\n"
     ]
    }
   ],
   "source": [
    "print(B.shape)"
   ]
  },
  {
   "cell_type": "code",
   "execution_count": 19,
   "metadata": {},
   "outputs": [
    {
     "name": "stdout",
     "output_type": "stream",
     "text": [
      "torch.Size([64, 150, 768])\n",
      "torch.Size([64, 150, 768])\n",
      "torch.Size([64, 150, 768])\n",
      "torch.Size([64, 150, 768])\n",
      "torch.Size([64, 150, 768])\n",
      "torch.Size([64, 150, 768])\n",
      "torch.Size([64, 150, 768])\n",
      "torch.Size([64, 150, 768])\n",
      "torch.Size([64, 150, 768])\n",
      "torch.Size([64, 150, 768])\n",
      "torch.Size([64, 150, 768])\n",
      "torch.Size([64, 150, 768])\n"
     ]
    }
   ],
   "source": [
    "for i in range(len(C)):\n",
    "    print(C[i].shape)"
   ]
  },
  {
   "cell_type": "code",
   "execution_count": 20,
   "metadata": {},
   "outputs": [],
   "source": [
    "D, E = A"
   ]
  },
  {
   "cell_type": "code",
   "execution_count": 21,
   "metadata": {},
   "outputs": [
    {
     "name": "stdout",
     "output_type": "stream",
     "text": [
      "torch.Size([64, 150, 768])\n"
     ]
    }
   ],
   "source": [
    "print(D.shape)"
   ]
  },
  {
   "cell_type": "code",
   "execution_count": 22,
   "metadata": {},
   "outputs": [
    {
     "name": "stdout",
     "output_type": "stream",
     "text": [
      "torch.Size([64, 150, 768])\n",
      "torch.Size([64, 150, 768])\n",
      "torch.Size([64, 150, 768])\n",
      "torch.Size([64, 150, 768])\n",
      "torch.Size([64, 150, 768])\n",
      "torch.Size([64, 150, 768])\n",
      "torch.Size([64, 150, 768])\n",
      "torch.Size([64, 150, 768])\n",
      "torch.Size([64, 150, 768])\n",
      "torch.Size([64, 150, 768])\n",
      "torch.Size([64, 150, 768])\n",
      "torch.Size([64, 150, 768])\n"
     ]
    }
   ],
   "source": [
    "for i in range(len(E)):\n",
    "    print(E[i].shape)"
   ]
  },
  {
   "cell_type": "code",
   "execution_count": null,
   "metadata": {},
   "outputs": [],
   "source": []
  }
 ],
 "metadata": {
  "kernelspec": {
   "display_name": "meg",
   "language": "python",
   "name": "python3"
  },
  "language_info": {
   "codemirror_mode": {
    "name": "ipython",
    "version": 3
   },
   "file_extension": ".py",
   "mimetype": "text/x-python",
   "name": "python",
   "nbconvert_exporter": "python",
   "pygments_lexer": "ipython3",
   "version": "3.10.13"
  }
 },
 "nbformat": 4,
 "nbformat_minor": 2
}
